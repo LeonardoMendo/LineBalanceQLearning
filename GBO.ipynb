{
 "cells": [
  {
   "cell_type": "markdown",
   "metadata": {},
   "source": [
    "<h1>Dependencias"
   ]
  },
  {
   "cell_type": "code",
   "execution_count": 6,
   "metadata": {},
   "outputs": [],
   "source": [
    "import pandas as pd\n",
    "import numpy as np \n",
    "import matplotlib.pyplot as plt\n",
    "import seaborn as sns \n",
    "\n",
    "import tensorflow as tf\n",
    " \n",
    "from tensorflow import keras\n",
    "from tensorflow.keras import layers"
   ]
  },
  {
   "cell_type": "markdown",
   "metadata": {},
   "source": [
    "<h1> Conceitos"
   ]
  },
  {
   "cell_type": "markdown",
   "metadata": {},
   "source": [
    "<h1>Base"
   ]
  },
  {
   "cell_type": "code",
   "execution_count": 197,
   "metadata": {},
   "outputs": [],
   "source": [
    "actions = pd.read_csv('ActionList.csv')\n",
    "#Setting time column from string to Float\n",
    "actions['Time'] = actions['Time'].apply(lambda x: x.replace(',','.')).astype(float)\n",
    "\n",
    "ref = pd.read_csv('RefPostos.csv')\n",
    "ref = ref.drop(columns=['Classe Posto','Ordem Atividades','Parte'])\n",
    "#Setting time column from string to Float\n",
    "ref['Tempo (s)'] = ref['Tempo (s)'].apply(lambda x: x.replace(',','.')).astype(float)\n",
    "\n",
    "operators = pd.read_csv('Operadores.csv')"
   ]
  },
  {
   "cell_type": "markdown",
   "metadata": {},
   "source": [
    "<h2> Referencia (44 Postos)"
   ]
  },
  {
   "cell_type": "code",
   "execution_count": 8,
   "metadata": {
    "scrolled": true
   },
   "outputs": [
    {
     "data": {
      "text/plain": [
       "<matplotlib.axes._subplots.AxesSubplot at 0x1e418e83e08>"
      ]
     },
     "execution_count": 8,
     "metadata": {},
     "output_type": "execute_result"
    },
    {
     "data": {
      "image/png": "[encoded data removed]",
      "text/plain": [
       "<Figure size 720x360 with 1 Axes>"
      ]
     },
     "metadata": {
      "needs_background": "light"
     },
     "output_type": "display_data"
    }
   ],
   "source": [
    "#Graph for referential comparison data\n",
    "ref.groupby('Posto')['Tempo (s)'].sum().plot(kind=\"bar\", figsize=(10,5))"
   ]
  },
  {
   "cell_type": "markdown",
   "metadata": {},
   "source": [
    "<h1> Função para escolha da ordem de operadores e Max Time"
   ]
  },
  {
   "cell_type": "code",
   "execution_count": 327,
   "metadata": {},
   "outputs": [],
   "source": [
    "def getRandomOperatorsOrder():\n",
    "    import random\n",
    "    return random.sample(range(len(operators.Nome)),len(operators.Nome))"
   ]
  },
  {
   "cell_type": "code",
   "execution_count": 536,
   "metadata": {},
   "outputs": [],
   "source": [
    "def getFirstOperatorsOrder():\n",
    "    \n",
    "    order = []\n",
    "    \n",
    "    for i in range(0,len(operators.Nome)):\n",
    "        order = np.append(order, i)\n",
    "        \n",
    "    return order"
   ]
  },
  {
   "cell_type": "code",
   "execution_count": 457,
   "metadata": {},
   "outputs": [],
   "source": [
    "def getRandomMaxTime():\n",
    "    import random\n",
    "    return random.randint(10, 100)"
   ]
  },
  {
   "cell_type": "code",
   "execution_count": 413,
   "metadata": {},
   "outputs": [],
   "source": [
    "def getEvaluation(missing_actions,not_working_operators,mean_time):\n",
    "    if(missing_actions > 0 or not_working_operators > 0):\n",
    "        return 0\n",
    "    else:\n",
    "        return mean_time"
   ]
  },
  {
   "cell_type": "markdown",
   "metadata": {},
   "source": [
    "<h1> Função de Distribuição de Atividades"
   ]
  },
  {
   "cell_type": "code",
   "execution_count": 512,
   "metadata": {},
   "outputs": [],
   "source": [
    "def initSimulation():\n",
    "    #Definindo valores de entrada\n",
    "    tt = np.max(actions.Time)\n",
    "    order = getFirstOperatorsOrder()"
   ]
  },
  {
   "cell_type": "code",
   "execution_count": 537,
   "metadata": {},
   "outputs": [
    {
     "data": {
      "text/plain": [
       "array([ 0.,  1.,  2.,  3.,  4.,  5.,  6.,  7.,  8.,  9., 10., 11., 12.,\n",
       "       13., 14., 15., 16., 17., 18., 19., 20., 21., 22., 23., 24., 25.,\n",
       "       26., 27., 28., 29., 30., 31., 32., 33., 34., 35., 36., 37., 38.,\n",
       "       39., 40., 41., 42., 43.])"
      ]
     },
     "execution_count": 537,
     "metadata": {},
     "output_type": "execute_result"
    }
   ],
   "source": [
    "getFirstOperatorsOrder()"
   ]
  },
  {
   "cell_type": "code",
   "execution_count": 504,
   "metadata": {
    "scrolled": false
   },
   "outputs": [],
   "source": [
    "def getDistribution(print_flag): \n",
    "\n",
    "    #Definindo tempo total somado das atividades\n",
    "    total_time = actions.Time.sum()\n",
    "\n",
    "    #Definindo a distribuição sequencial baseada em TT e order\n",
    "    accumulator = 0\n",
    "    full_time = 0\n",
    "    time_posto = [0] * len(operators.Nome)\n",
    "    index = 0\n",
    "    action_num = 0\n",
    "\n",
    "    while(action_num < len(actions.Time)-1 and index < len(operators.Nome)):\n",
    "\n",
    "        while accumulator < tt-actions.Time[action_num]*operators.Eficiencia[order[index]]:\n",
    "            if(action_num < len(actions.Time)-1):\n",
    "                accumulator = accumulator + actions.Time[action_num]*operators.Eficiencia[order[index]]\n",
    "                action_num = action_num + 1\n",
    "            else:\n",
    "                break\n",
    "\n",
    "        time_posto[index] = accumulator \n",
    "        full_time = full_time + accumulator\n",
    "        accumulator = 0\n",
    "        index = index + 1\n",
    "        \n",
    "    missing_actions = len(actions.Time)-1 - action_num \n",
    "    not_working_operators = len(operators.Nome) - np.count_nonzero(time_posto)\n",
    "    mean_time = time_posto[time_posto!=0].mean()\n",
    "    max_time = np.max(time_posto)\n",
    "\n",
    "    #Printa valores de saída se flag acionada\n",
    "    if(print_flag == 1):\n",
    "        print('INPUT')\n",
    "        print(f'Tempo Maximo/Posto: {tt}')\n",
    "        print(f'Ordem dos Operadores: {order}')\n",
    "        print('')\n",
    "        print('OUTPUT')\n",
    "        print(f'Ações faltando: {missing_actions}')\n",
    "        print(f'Operadores sem Trabalho: {not_working_operators}')\n",
    "        print(f'Tempo Maximo no posto: {max_time}')\n",
    "\n",
    "        print('')\n",
    "\n",
    "        print(f'SCORE: {getEvaluation(missing_actions,not_working_operators,max_time)}')\n",
    "\n",
    "        pd.DataFrame(time_posto).plot(kind=\"bar\",figsize=(10,5),legend=0)\n",
    "    \n",
    "    return getEvaluation(missing_actions,not_working_operators,max_time)"
   ]
  },
  {
   "cell_type": "markdown",
   "metadata": {},
   "source": [
    "<h1> Método de Iteração Simples"
   ]
  },
  {
   "cell_type": "code",
   "execution_count": 476,
   "metadata": {
    "scrolled": false
   },
   "outputs": [
    {
     "name": "stdout",
     "output_type": "stream",
     "text": [
      "Score Máximo:28.824899999999992\n"
     ]
    }
   ],
   "source": [
    "score = 100000\n",
    "\n",
    "for i in range (0,1000):\n",
    "    returned = getDistribution(0)\n",
    "    #print(f'Score: {returned}')\n",
    "    if(returned > 0 and returned < score):\n",
    "        score = returned\n",
    "        \n",
    "print(f'Score Máximo:{score}')"
   ]
  },
  {
   "cell_type": "markdown",
   "metadata": {},
   "source": [
    "<h1>Modelo"
   ]
  },
  {
   "cell_type": "code",
   "execution_count": 508,
   "metadata": {},
   "outputs": [
    {
     "name": "stdout",
     "output_type": "stream",
     "text": [
      "INPUT\n",
      "Tempo Maximo/Posto: 30.05\n",
      "Ordem dos Operadores: [29, 24, 37, 30, 25, 6, 36, 16, 11, 15, 28, 13, 18, 34, 40, 2, 17, 26, 41, 14, 10, 19, 23, 0, 35, 3, 31, 42, 8, 32, 7, 20, 43, 33, 38, 21, 39, 12, 9, 4, 1, 5, 22, 27]\n",
      "\n",
      "OUTPUT\n",
      "Ações faltando: 0\n",
      "Operadores sem Trabalho: 0\n",
      "Tempo Maximo no posto: 29.964000000000002\n",
      "\n",
      "SCORE: 29.964000000000002\n"
     ]
    },
    {
     "data": {
      "text/plain": [
       "29.964000000000002"
      ]
     },
     "execution_count": 508,
     "metadata": {},
     "output_type": "execute_result"
    },
    {
     "data": {
      "image/png": "[encoded data removed]",
      "text/plain": [
       "<Figure size 720x360 with 1 Axes>"
      ]
     },
     "metadata": {
      "needs_background": "light"
     },
     "output_type": "display_data"
    }
   ],
   "source": [
    "getDistribution(1)"
   ]
  },
  {
   "cell_type": "markdown",
   "metadata": {},
   "source": [
    "<h1>Testes"
   ]
  },
  {
   "cell_type": "markdown",
   "metadata": {},
   "source": [
    "<h1>Resultados"
   ]
  }
 ],
 "metadata": {
  "kernelspec": {
   "display_name": "Python 3",
   "language": "python",
   "name": "python3"
  },
  "language_info": {
   "codemirror_mode": {
    "name": "ipython",
    "version": 3
   },
   "file_extension": ".py",
   "mimetype": "text/x-python",
   "name": "python",
   "nbconvert_exporter": "python",
   "pygments_lexer": "ipython3",
   "version": "3.7.6"
  }
 },
 "nbformat": 4,
 "nbformat_minor": 4
}
