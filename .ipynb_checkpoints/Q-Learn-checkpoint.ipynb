{
 "cells": [
  {
   "cell_type": "markdown",
   "metadata": {},
   "source": [
    "<h1> Dependências"
   ]
  },
  {
   "cell_type": "code",
   "execution_count": 25,
   "metadata": {},
   "outputs": [],
   "source": [
    "import pandas as pd\n",
    "import numpy as np "
   ]
  },
  {
   "cell_type": "markdown",
   "metadata": {},
   "source": [
    "<h1>Carregando Dados"
   ]
  },
  {
   "cell_type": "code",
   "execution_count": 5,
   "metadata": {},
   "outputs": [],
   "source": [
    "actions = pd.read_csv('ActionList-Reduced.csv')\n",
    "#Setting time column from string to Float\n",
    "actions['Time'] = actions['Time'].apply(lambda x: x.replace(',','.')).astype(float)\n",
    "\n",
    "ref = pd.read_csv('RefPostos-Reduced.csv')\n",
    "ref = ref.drop(columns=['Classe Posto','Ordem Atividades','Parte'])\n",
    "#Setting time column from string to Float\n",
    "ref['Tempo (s)'] = ref['Tempo (s)'].apply(lambda x: x.replace(',','.')).astype(float)\n",
    "\n",
    "operators = pd.read_csv('Operadores-Reduced.csv')"
   ]
  },
  {
   "cell_type": "markdown",
   "metadata": {},
   "source": [
    "<h2> Referencia"
   ]
  },
  {
   "cell_type": "code",
   "execution_count": 6,
   "metadata": {
    "scrolled": true
   },
   "outputs": [
    {
     "data": {
      "text/plain": [
       "<matplotlib.axes._subplots.AxesSubplot at 0x18d7baf8ec8>"
      ]
     },
     "execution_count": 6,
     "metadata": {},
     "output_type": "execute_result"
    },
    {
     "data": {
      "image/png": "[encoded data removed]",
      "text/plain": [
       "<Figure size 720x360 with 1 Axes>"
      ]
     },
     "metadata": {
      "needs_background": "light"
     },
     "output_type": "display_data"
    }
   ],
   "source": [
    "#Graph for referential comparison data\n",
    "ref.groupby('Posto')['Tempo (s)'].sum().plot(kind=\"bar\", figsize=(10,5))"
   ]
  },
  {
   "cell_type": "markdown",
   "metadata": {},
   "source": [
    "<h1> Estado Inicial"
   ]
  },
  {
   "cell_type": "markdown",
   "metadata": {},
   "source": [
    "Iniciando TT com o valor inteiro arredondado para cimada ação mais demorada da lista de ações e definindo a sequência inicial como a ordem dos operadores no arquivo de entrada."
   ]
  },
  {
   "cell_type": "code",
   "execution_count": 7,
   "metadata": {},
   "outputs": [],
   "source": [
    "def getInitialTT():\n",
    "    return math.ceil(max(actions.Time))"
   ]
  },
  {
   "cell_type": "code",
   "execution_count": 26,
   "metadata": {},
   "outputs": [],
   "source": [
    "def getFirstOperatorsOrder():\n",
    "    \n",
    "    order = []\n",
    "    \n",
    "    for i in range(0,len(operators.Nome)):\n",
    "        order = np.append(order, i)\n",
    "        \n",
    "    return order"
   ]
  },
  {
   "cell_type": "code",
   "execution_count": 9,
   "metadata": {},
   "outputs": [],
   "source": [
    "def getStateNumber(state):\n",
    "    state_number = 0\n",
    "    \n",
    "    state_number = state_number + state[0]*6**5\n",
    "    \n",
    "    state_number = state_number + state[1]*1\n",
    "    state_number = state_number + state[2]*6**1\n",
    "    state_number = state_number + state[3]*6**2\n",
    "    state_number = state_number + state[4]*6**3\n",
    "    state_number = state_number + state[5]*6**4\n",
    "    \n",
    "    return int(state_number)"
   ]
  },
  {
   "cell_type": "code",
   "execution_count": 42,
   "metadata": {},
   "outputs": [],
   "source": [
    "def plotGraph(tt,order): \n",
    "\n",
    "    #Definindo tempo total somado das atividades\n",
    "    total_time = actions.Time.sum()\n",
    "\n",
    "    #Definindo a distribuição sequencial baseada em TT e order\n",
    "    accumulator = 0\n",
    "    full_time = 0\n",
    "    time_posto = [0] * len(operators.Nome)\n",
    "    index = 0\n",
    "    action_num = 0\n",
    "\n",
    "    while(action_num < len(actions.Time)-1 and index < len(operators.Nome)):\n",
    "\n",
    "        while accumulator < tt-actions.Time[action_num]*operators.Eficiencia[order[index]]:\n",
    "            if(action_num < len(actions.Time)-1):\n",
    "                accumulator = accumulator + actions.Time[action_num]*operators.Eficiencia[order[index]]\n",
    "                action_num = action_num + 1\n",
    "            else:\n",
    "                break\n",
    "\n",
    "        time_posto[index] = accumulator \n",
    "        full_time = full_time + accumulator\n",
    "        accumulator = 0\n",
    "        index = index + 1\n",
    "        \n",
    "    missing_actions = len(actions.Time)-1 - action_num \n",
    "    not_working_operators = len(operators.Nome) - np.count_nonzero(time_posto)\n",
    "    mean_time = time_posto[time_posto!=0].mean()\n",
    "    max_time = np.max(time_posto)\n",
    "\n",
    "    #Printa valores de saída se flag acionada\n",
    "    \n",
    "    print('INPUT')\n",
    "    print(f'Tempo Maximo/Posto: {tt}')\n",
    "    print(f'Ordem dos Operadores: {order}')\n",
    "    print('')\n",
    "    print('OUTPUT')\n",
    "    print(f'Ações faltando: {missing_actions}')\n",
    "    print(f'Operadores sem Trabalho: {not_working_operators}')\n",
    "    print(f'Tempo Maximo no posto: {max_time}')\n",
    "\n",
    "    print('')\n",
    "\n",
    "   # print(f'SCORE: {getEvaluation(missing_actions,not_working_operators,max_time)}')\n",
    "    \n",
    "    pd.DataFrame(time_posto).plot(kind=\"bar\",figsize=(10,5),legend=0)\n",
    "    \n",
    "    if(missing_actions > 0 or not_working_operators > 0):\n",
    "        return 0\n",
    "    else:\n",
    "        return max_time"
   ]
  },
  {
   "cell_type": "code",
   "execution_count": 29,
   "metadata": {},
   "outputs": [],
   "source": [
    "def get_reward(state):\n",
    "\n",
    "        total_time = state[0]\n",
    "        order = state[1:len(state)-1]\n",
    "\n",
    "        #Definindo a distribuição sequencial baseada em TT e order\n",
    "        accumulator = 0\n",
    "        full_time = 0\n",
    "        time_posto = [0] * (len(state)-1)\n",
    "        index = 0\n",
    "        action_num = 0\n",
    "\n",
    "        while(action_num < len(actions.Time)-1 and index < len(operators.Nome)):\n",
    "\n",
    "            while accumulator < state[0]-actions.Time[action_num]*operators.Eficiencia[order[index-1]]:\n",
    "                if(action_num < len(actions.Time)-1):\n",
    "                    accumulator = accumulator + actions.Time[action_num]*operators.Eficiencia[order[index-1]]\n",
    "                    action_num = action_num + 1\n",
    "                else:\n",
    "                    break\n",
    "\n",
    "            time_posto[index] = accumulator \n",
    "            full_time = full_time + accumulator\n",
    "            accumulator = 0\n",
    "            index = index + 1\n",
    "\n",
    "        missing_actions = len(actions.Time)-1 - action_num \n",
    "        not_working_operators = len(operators.Nome) - np.count_nonzero(time_posto)\n",
    "        mean_time = time_posto[time_posto!=0].mean()\n",
    "        max_time = np.max(time_posto)\n",
    "\n",
    "        if(missing_actions > 0 or not_working_operators > 0):\n",
    "            return 0\n",
    "        else:\n",
    "            return max_time"
   ]
  },
  {
   "cell_type": "markdown",
   "metadata": {},
   "source": [
    "<h1>Ambiente"
   ]
  },
  {
   "cell_type": "code",
   "execution_count": 12,
   "metadata": {},
   "outputs": [],
   "source": [
    "from enums import *\n",
    "import random\n",
    "\n",
    "class LayoutSimulation:\n",
    "    \n",
    "    #def __init__(self, tt=np.max(actions.Time),order = getFirstOperatorsOrder()):   \n",
    "\n",
    "    def take_action(self, action):\n",
    "        if action == 'INCREASE':\n",
    "            self.state[0] = self.state[0] + 1\n",
    "            reward = get_reward(self.state)\n",
    "        elif action == 'DECREASE':\n",
    "            self.state[0] = self.state[0] - 1\n",
    "            reward = get_reward(self.state)\n",
    "        else:\n",
    "            aux = self.state[1]\n",
    "            self.state[1] = self.state[action]\n",
    "            self.state[action] = aux\n",
    "            reward = get_reward(self.state)\n",
    "            \n",
    "        return self.state, reward\n",
    "\n",
    "    def reset(self):\n",
    "        # Reset state to zero, the beginning of the dungeon\n",
    "        self.state = np.concatenate(([getInitialTT()],getFirstOperatorsOrder()))\n",
    "        return self.state"
   ]
  },
  {
   "cell_type": "markdown",
   "metadata": {},
   "source": [
    "<h1>Agente"
   ]
  },
  {
   "cell_type": "code",
   "execution_count": 22,
   "metadata": {
    "scrolled": false
   },
   "outputs": [],
   "source": [
    "from enums import *\n",
    "import random\n",
    "import math\n",
    "\n",
    "class Supervisor:\n",
    "    def __init__(self, learning_rate=0.1, discount=0.95, exploration_rate=1.0, iterations=10000):\n",
    "        #self.q_table = [ [ 0 for i in range(100*math.factorial(len(operators.Nome))) ] for j in range(len(operators.Nome)+1)] # Spreadsheet (Q-table) for rewards accounting\n",
    "        self.q_table = [ [ 0 for i in range(len(operators.Nome)+1) ] for j in range(785376)]\n",
    "        self.learning_rate = learning_rate # How much we appreciate new q-value over current\n",
    "        self.discount = discount # How much we appreciate future reward over current\n",
    "        self.exploration_rate = 1.0 # Initial exploration rate\n",
    "        self.exploration_delta = 1.0 / iterations # Shift from exploration to exploitation\n",
    "\n",
    "    def get_next_action(self, state):\n",
    "        if random.random() > self.exploration_rate: # Explore (gamble) or exploit (greedy)\n",
    "            return self.greedy_action(state)\n",
    "        else:\n",
    "            return self.random_action()\n",
    "\n",
    "    def greedy_action(self, state):\n",
    "        \n",
    "        # Choose best rewarding action to take\n",
    "        #print(f'{state},{getStateNumber(state)}')\n",
    "        #print(f'{self.q_table[10][5]}')\n",
    "        \n",
    "        best_action = np.max(self.q_table[getStateNumber(state)])\n",
    "        \n",
    "        if best_action == 0:\n",
    "            return 'INCREASE'\n",
    "        if best_action == 1:\n",
    "            return 'DECREASE'\n",
    "        else:\n",
    "            return best_action\n",
    "\n",
    "    def random_action(self):\n",
    "        rand = random.randint(0, len(operators.Nome))\n",
    "        if(rand == 0):\n",
    "            return 'INCREASE'\n",
    "        if(rand == 1):\n",
    "            return 'DECREASE'\n",
    "        else:\n",
    "            return rand\n",
    "\n",
    "    def update(self, old_state, new_state, action, reward):\n",
    "        # Old Q-table value\n",
    "        \n",
    "        #print(f'{action} , {getStateNumber(old_state)}')\n",
    "        old_value = self.q_table[getStateNumber(old_state)][action]\n",
    "        # What would be our best next action?\n",
    "        future_action = self.greedy_action(new_state)\n",
    "        \n",
    "        if(future_action == 'INCREASE'):\n",
    "            future_action = 0\n",
    "        if(future_action == 'DECREASE'):\n",
    "            future_action = 1\n",
    "            \n",
    "        # What is reward for the best next action?\n",
    "        print(f'{getStateNumber(new_state)}, {future_action}')\n",
    "        future_reward = self.q_table[getStateNumber(new_state)][future_action]\n",
    "\n",
    "        # Main Q-table updating algorithm\n",
    "        print(f'Old: {old_value}')\n",
    "        new_value = old_value + self.learning_rate * (reward + self.discount * future_reward - old_value)\n",
    "        self.q_table[getStateNumber(old_state)][action] = new_value\n",
    "\n",
    "        # Finally shift our exploration_rate toward zero (less gambling)\n",
    "        if self.exploration_rate > 0:\n",
    "            self.exploration_rate -= self.exploration_delta"
   ]
  },
  {
   "cell_type": "markdown",
   "metadata": {},
   "source": [
    "<h1>Simulação"
   ]
  },
  {
   "cell_type": "code",
   "execution_count": 14,
   "metadata": {},
   "outputs": [],
   "source": [
    "import random\n",
    "import json\n",
    "import argparse\n",
    "import time\n",
    "\n",
    "def SimulationStart():\n",
    "    # parse arguments\n",
    "    parser = argparse.ArgumentParser()\n",
    "    parser.add_argument('--learning_rate', type=float, default=0.1, help='How quickly the algorithm tries to learn')\n",
    "    parser.add_argument('--discount', type=float, default=0.95, help='Discount for estimated future action')\n",
    "    parser.add_argument('--iterations', type=int, default=2000, help='Iteration count')\n",
    "    FLAGS, unparsed = parser.parse_known_args()\n",
    "\n",
    "    agent = Supervisor()\n",
    "\n",
    "    # setup simulation\n",
    "    line_layout = LayoutSimulation()\n",
    "    tt = getInitialTT()\n",
    "    order = getFirstOperatorsOrder()\n",
    "    line_layout.reset()\n",
    "    total_reward = 0 # Score keeping\n",
    "\n",
    "    print(f'Estado Inicial: {line_layout.state}')\n",
    "    print('\\n')\n",
    "    #Main loop\n",
    "    for step in range(FLAGS.iterations):\n",
    "        old_state = line_layout.state # Store current state\n",
    "        action = agent.get_next_action(old_state) # Query agent for the next action\n",
    "        print(f'Agente executou ação: {action}')\n",
    "        new_state, reward = line_layout.take_action(action) # Take action, get new state and reward\n",
    "        print(f'Novo Estado: {new_state}')\n",
    "        print(f'Recompensa: {reward}')\n",
    "        print('\\n')\n",
    "        \n",
    "        if(action== 'INCREASE'):\n",
    "            action = 0\n",
    "        if(action== 'DECREASE'):\n",
    "            action = 1\n",
    "        agent.update(old_state, new_state, action, reward) # Let the agent update internals\n",
    "\n",
    "        total_reward += reward # Keep score\n",
    "        if step % 250 == 0: # Print out metadata every 100th iteration\n",
    "            print(json.dumps({'step': step, 'total_reward': total_reward}))\n",
    "\n",
    "        time.sleep(0.0001) # Avoid spamming stdout too fast!\n",
    "\n",
    "    print(\"Final Q-table\", agent.q_table)\n"
   ]
  },
  {
   "cell_type": "markdown",
   "metadata": {},
   "source": [
    "<h1> Iniciar Simulação"
   ]
  },
  {
   "cell_type": "code",
   "execution_count": 43,
   "metadata": {},
   "outputs": [
    {
     "name": "stdout",
     "output_type": "stream",
     "text": [
      "INPUT\n",
      "Tempo Maximo/Posto: 25\n",
      "Ordem dos Operadores: [2, 3, 1, 0, 4]\n",
      "\n",
      "OUTPUT\n",
      "Ações faltando: 1\n",
      "Operadores sem Trabalho: 0\n",
      "Tempo Maximo no posto: 24.835199999999993\n",
      "\n"
     ]
    },
    {
     "data": {
      "text/plain": [
       "0"
      ]
     },
     "execution_count": 43,
     "metadata": {},
     "output_type": "execute_result"
    },
    {
     "data": {
      "image/png": "[encoded data removed]",
      "text/plain": [
       "<Figure size 720x360 with 1 Axes>"
      ]
     },
     "metadata": {
      "needs_background": "light"
     },
     "output_type": "display_data"
    }
   ],
   "source": [
    "SimulationStart()\n",
    "#plotGraph(25,[2,3,1,0,4])"
   ]
  }
 ],
 "metadata": {
  "kernelspec": {
   "display_name": "Python 3",
   "language": "python",
   "name": "python3"
  },
  "language_info": {
   "codemirror_mode": {
    "name": "ipython",
    "version": 3
   },
   "file_extension": ".py",
   "mimetype": "text/x-python",
   "name": "python",
   "nbconvert_exporter": "python",
   "pygments_lexer": "ipython3",
   "version": "3.7.6"
  }
 },
 "nbformat": 4,
 "nbformat_minor": 4
}
